{
 "cells": [
  {
   "cell_type": "code",
   "execution_count": 1,
   "id": "79028d19-dae6-4d8e-8599-ad89abe0e2fa",
   "metadata": {},
   "outputs": [],
   "source": [
    "import os\n",
    "import pickle\n",
    "from read_mappings import extract_mappings_from_sam, extract_mappings_from_bed, comp_samp_map, comp_bed_bed"
   ]
  },
  {
   "cell_type": "markdown",
   "id": "47510a0e-99c5-48ca-8ee3-c612d6dea426",
   "metadata": {},
   "source": [
    "Total piscem mappings 1558 (1225)\n",
    "Total chromap mappings 1120\n",
    "Total SAM mappings 1165"
   ]
  },
  {
   "cell_type": "code",
   "execution_count": 33,
   "id": "4e5cb7d2-adfe-419f-a886-92795cef78b2",
   "metadata": {},
   "outputs": [],
   "source": [
    "map_piscem = extract_mappings_from_bed(os.path.join(path, \"piscem_analysis/samp1285_k23_psc_off=true_ps_skip=false_thr=0.7/map.bed\"))\n",
    "map_chromap = extract_mappings_from_bed(os.path.join(path, \"chromap_analysis/map_out_samp1285.bed\"))\n",
    "map_bowtie = extract_mappings_from_sam(os.path.join(path, \"bowtie2/samp1285.sam\"))"
   ]
  },
  {
   "cell_type": "markdown",
   "id": "a2af10ba-f564-4df3-8ddf-336756fa9873",
   "metadata": {},
   "source": [
    "#### Comparing Piscem with Bowtie"
   ]
  },
  {
   "cell_type": "code",
   "execution_count": 15,
   "id": "5709fd75-dd45-4a84-af62-253399ed849c",
   "metadata": {},
   "outputs": [],
   "source": [
    "barcode_map = pickle.load(open(os.path.join(path, \"pickle_hits/samp1285.pi\"), 'rb'))[0]"
   ]
  },
  {
   "cell_type": "code",
   "execution_count": 103,
   "id": "fab4ca57-eb65-41df-b4ca-37434a77e670",
   "metadata": {},
   "outputs": [
    {
     "name": "stdout",
     "output_type": "stream",
     "text": [
      "count matches are 1097\n"
     ]
    }
   ],
   "source": [
    "path=\"/fs/cbcb-lab/rob/students/noor/Atacseq\"\n",
    "bowtie_piscem=comp_samp_map(os.path.join(path, \"bowtie2/samp1285_global.sam\"), os.path.join(path, \"piscem_analysis/samp1285_k23_psc_off=true_ps_skip=false_thr=0.7/map.bed\"),\n",
    "                            os.path.join(path, \"pickle_hits/samp1285.pi\"), 10)"
   ]
  },
  {
   "cell_type": "markdown",
   "id": "12fc595e-5d7e-4891-abdd-7f222615c8a1",
   "metadata": {},
   "source": [
    "Lengths of barcodes for which there is a mismatch, missed in piscem, missed in bowtie, missed in both, common and exact match"
   ]
  },
  {
   "cell_type": "code",
   "execution_count": 104,
   "id": "02242855-11a8-487e-9057-06997dd9e283",
   "metadata": {},
   "outputs": [
    {
     "name": "stdout",
     "output_type": "stream",
     "text": [
      "16 52 111 9 1097\n"
     ]
    }
   ],
   "source": [
    "print(len(bowtie_piscem[0]), len(bowtie_piscem[1]), len(bowtie_piscem[2]), len(bowtie_piscem[3]), len(bowtie_piscem[4]))"
   ]
  },
  {
   "cell_type": "markdown",
   "id": "5f43d39b-a285-4aa7-ab2d-9ebfad7d045e",
   "metadata": {},
   "source": [
    "Matching also includes deduplicates "
   ]
  },
  {
   "cell_type": "markdown",
   "id": "2958e384-915a-4f0a-9cd9-72ff293f6864",
   "metadata": {},
   "source": [
    "Mismatches in piscem total 17"
   ]
  },
  {
   "cell_type": "code",
   "execution_count": 14,
   "id": "6a10f30c-d7a2-4cb6-a610-58f8ccb316d5",
   "metadata": {
    "scrolled": true
   },
   "outputs": [
    {
     "data": {
      "text/plain": [
       "{'AACTGTGACGCTCAGC': [28429, 28098],\n",
       " 'AAGACGGTGGCCCTAG': [3518156, 3508736],\n",
       " 'AATAGGAACGGAATTA': [71729973, 71729967],\n",
       " 'ACCTCCAACGTTTACG': [2965172, 2970901],\n",
       " 'ACGCCCAGAAGCCCTG': [180997, 181230],\n",
       " 'ACGTGGCTGATCAGCT': [3536640, 3527222],\n",
       " 'ATCGCCGGAGGCCTGT': [20974174, 20973597],\n",
       " 'ATGGGAGTGTACAGAA': [-1, -1],\n",
       " 'ATTGCTACTGGAATAT': [-1, -1],\n",
       " 'CAAGAATGACTGTACA': [16172461, 16171822],\n",
       " 'CACTTAGGAAAGTCTC': [4667831, 4659866],\n",
       " 'GGCTTGCGACAACGCC': [-1, -1],\n",
       " 'GGTGTAACTCGGCTCA': [102671728, 102572647],\n",
       " 'TCAAAGCACTTCTGAG': [-1, -1],\n",
       " 'TCAATCGGATACTTTC': [56746112, 56760177],\n",
       " 'TGGAGTTACGCTTCGG': [-1, -1],\n",
       " 'TGGGCCATGGAATTGA': [43278803, 43284726]}"
      ]
     },
     "execution_count": 14,
     "metadata": {},
     "output_type": "execute_result"
    }
   ],
   "source": [
    "bowtie_piscem[0] ## bowtie, piscem"
   ]
  },
  {
   "cell_type": "markdown",
   "id": "5fd07455-437b-47c6-ba31-e367692a7675",
   "metadata": {},
   "source": [
    "#### Comparing Bowtie with Chromap"
   ]
  },
  {
   "cell_type": "code",
   "execution_count": 106,
   "id": "b30273a8-3219-4f1e-a872-c6955621b825",
   "metadata": {},
   "outputs": [
    {
     "name": "stdout",
     "output_type": "stream",
     "text": [
      "count matches are 1032\n",
      "1 132 86 34 1032\n"
     ]
    }
   ],
   "source": [
    "bowtie_chromap=comp_samp_map(os.path.join(path, \"bowtie2/samp1285_global.sam\"), os.path.join(path, \"chromap_analysis/map_out_samp1285.bed\"),\n",
    "                            os.path.join(path, \"pickle_hits/samp1285.pi\"),10)\n",
    "print(len(bowtie_chromap[0]), len(bowtie_chromap[1]), len(bowtie_chromap[2]), len(bowtie_chromap[3]), len(bowtie_chromap[4]))"
   ]
  },
  {
   "cell_type": "markdown",
   "id": "f8a0fcf5-7def-4903-a67d-e6febb070195",
   "metadata": {},
   "source": [
    "Mismatches, missing in chromap, missing in bowtie, missing both, common and exact match"
   ]
  },
  {
   "cell_type": "code",
   "execution_count": 107,
   "id": "01fe0177-b453-4828-a228-dce7d79ac472",
   "metadata": {},
   "outputs": [
    {
     "data": {
      "text/plain": [
       "{'GGTGTAACTCGGCTCA': [102671728, 102572651]}"
      ]
     },
     "execution_count": 107,
     "metadata": {},
     "output_type": "execute_result"
    }
   ],
   "source": [
    "bowtie_chromap[0]"
   ]
  },
  {
   "cell_type": "markdown",
   "id": "69904970-5521-4258-92f9-5bda6b500168",
   "metadata": {},
   "source": [
    "#### Comparing Piscem with Chromap"
   ]
  },
  {
   "cell_type": "code",
   "execution_count": 108,
   "id": "1b522b11-06ba-41c7-80f6-57cb81f9a383",
   "metadata": {},
   "outputs": [
    {
     "name": "stdout",
     "output_type": "stream",
     "text": [
      "count matches are 1055\n",
      "39 25 130 36 1055\n"
     ]
    }
   ],
   "source": [
    "piscem_chromap= comp_bed_bed(os.path.join(path, \"piscem_analysis/samp1285_k23_psc_off=true_ps_skip=false_thr=0.7/map.bed\"), os.path.join(path, \"chromap_analysis/map_out_samp1285.bed\"),\n",
    "                            os.path.join(path, \"pickle_hits/samp1285.pi\"), 10)\n",
    "print(len(piscem_chromap[0]), len(piscem_chromap[1]), len(piscem_chromap[2]), len(piscem_chromap[3]), len(piscem_chromap[4]))"
   ]
  },
  {
   "cell_type": "markdown",
   "id": "35e0661b-887b-445f-a781-d37b6f2110a4",
   "metadata": {},
   "source": [
    "Mismatches, missing in piscem, missing in chromap, missing both, common"
   ]
  },
  {
   "cell_type": "markdown",
   "id": "5883a34d-2782-4bd8-9dfe-ebe8562c4842",
   "metadata": {},
   "source": [
    "We next check for the above mismatches in bowtie"
   ]
  },
  {
   "cell_type": "markdown",
   "id": "1f347393-af7a-49b4-bb5c-2c695fab1beb",
   "metadata": {},
   "source": [
    "#### Mismatches"
   ]
  },
  {
   "cell_type": "code",
   "execution_count": 23,
   "id": "8cd48ddd-a1a8-4fd1-b98a-1cafb33d42c2",
   "metadata": {},
   "outputs": [],
   "source": [
    "def find_header(barcode_map, barcode) :\n",
    "    for key, val in barcode_map.items():\n",
    "        if val == barcode:\n",
    "            return key\n",
    "    return None"
   ]
  },
  {
   "cell_type": "code",
   "execution_count": 77,
   "id": "eb7453f4-0c40-4fd7-9e80-230492502b76",
   "metadata": {},
   "outputs": [],
   "source": [
    "def match_exists(barcode, map_bed1, map_file2=None, barcode_map=None, mismatch=10):\n",
    "    map1 = map_bed1[barcode]\n",
    "    map1 = sorted(map1, key=lambda x:int(x[1]))\n",
    "    if barcode_map is None:\n",
    "        if not barcode in map_file2.keys():\n",
    "            return 0\n",
    "        map2 = map_file2[barcode]\n",
    "        map2 = sorted(map2, key=lambda x:int(x[1]))\n",
    "        i=0\n",
    "        j=0\n",
    "        while i < len(map1) and j < len(map2):\n",
    "            pos1 = int(map1[i][1])\n",
    "            pos2 = int(map2[j][1])\n",
    "            if abs(pos1-pos2) <= mismatch:\n",
    "                return 1\n",
    "            if pos1 < pos2:\n",
    "                i+=1\n",
    "            else:\n",
    "                j+=1\n",
    "        return -1\n",
    "    else:\n",
    "        header = find_header(barcode_map, barcode)\n",
    "        if not header in map_file2.keys():                \n",
    "            return 0\n",
    "        pos1 = int(map_file2[header]['read1'][1])\n",
    "        pos2 = int(map_file2[header]['read2'][1])\n",
    "        i=0\n",
    "        \n",
    "        while i < len(map1):\n",
    "            pos_bed = int(map1[i][1])\n",
    "            # print(pos1, pos2, pos_bed)\n",
    "            pos_sam = pos1 if abs(pos1-pos_bed) < abs(pos2-pos_bed) else pos2\n",
    "            if abs(pos_sam - pos_bed) <= mismatch:\n",
    "                return 1\n",
    "            if (pos_bed-pos_sam) > 100:\n",
    "                break\n",
    "            i += 1\n",
    "        return -1    \n"
   ]
  },
  {
   "cell_type": "code",
   "execution_count": 76,
   "id": "4fd3090c-ec4c-4d65-8a8d-e8d5215975ba",
   "metadata": {},
   "outputs": [],
   "source": [
    "def count_matches(vv):\n",
    "    countZ = 0\n",
    "    countO = 0\n",
    "    countN = 0\n",
    "    for l in vv:\n",
    "        if l==0:\n",
    "            countZ += 1\n",
    "        elif l==1:\n",
    "            countO += 1\n",
    "        else:\n",
    "            countN += 1\n",
    "    return((countZ, countO, countN))\n",
    "    "
   ]
  },
  {
   "cell_type": "markdown",
   "id": "5f470862-9ec0-461b-b2b5-a90e005d5621",
   "metadata": {},
   "source": [
    "For things that don't map in any both piscem and chromap,\n",
    "only 1 match"
   ]
  },
  {
   "cell_type": "code",
   "execution_count": 80,
   "id": "e40f55b5-5a1f-4dd3-830f-9c74507b9c76",
   "metadata": {},
   "outputs": [
    {
     "name": "stdout",
     "output_type": "stream",
     "text": [
      "(38, 1, 0)\n",
      "(38, 1, 0)\n"
     ]
    }
   ],
   "source": [
    "print(count_matches([match_exists(x, map_piscem, map_bowtie, barcode_map, 10) for x in piscem_chromap[0].keys()]))\n",
    "print(count_matches([match_exists(x, map_chromap, map_bowtie, barcode_map, 10) for x in piscem_chromap[0].keys()]))"
   ]
  },
  {
   "cell_type": "code",
   "execution_count": 95,
   "id": "f94633b1-b951-45e5-ba27-e3ad229ea405",
   "metadata": {},
   "outputs": [
    {
     "data": {
      "text/plain": [
       "'A00836:1008:H5NFJDSX3:1:1240:29387:35321'"
      ]
     },
     "execution_count": 95,
     "metadata": {},
     "output_type": "execute_result"
    }
   ],
   "source": [
    "vv=piscem_chromap[0].keys()\n",
    "header = find_header(barcode_map, list(vv)[-10])\n",
    "header"
   ]
  },
  {
   "cell_type": "code",
   "execution_count": 97,
   "id": "f9bcf979-57a7-4893-b3ee-335e11689fec",
   "metadata": {},
   "outputs": [
    {
     "name": "stdout",
     "output_type": "stream",
     "text": [
      "{'read1': ('chr4', 151099610), 'read2': ('chr4', 151099574)}\n",
      "[('chr4', 151099577)]\n",
      "[('chr4', 151099609), ('chr4', 151099609)]\n"
     ]
    }
   ],
   "source": [
    "print(map_bowtie[header])\n",
    "print(map_chromap[list(vv)[-10]])\n",
    "print(map_piscem[list(vv)[-10]])"
   ]
  },
  {
   "cell_type": "markdown",
   "id": "c7a73964-0089-4ae8-8064-c996339c4536",
   "metadata": {},
   "source": [
    "##### Not matched in piscem\n",
    "All match"
   ]
  },
  {
   "cell_type": "code",
   "execution_count": 99,
   "id": "6ec429f7-d431-4ede-9ef0-4e8a31291f73",
   "metadata": {},
   "outputs": [
    {
     "name": "stdout",
     "output_type": "stream",
     "text": [
      "(0, 25, 0)\n"
     ]
    }
   ],
   "source": [
    "print(count_matches([match_exists(x, map_chromap, map_bowtie, barcode_map, 10) for x in piscem_chromap[1]]))"
   ]
  },
  {
   "cell_type": "markdown",
   "id": "de0dab44-0c18-495b-bdc3-40b2dedf7c3e",
   "metadata": {},
   "source": [
    "##### Not matched in chromap\n",
    "93 match, 12 misalign, 25 not mapped by bowtie"
   ]
  },
  {
   "cell_type": "code",
   "execution_count": 101,
   "id": "3b77a028-041d-4b81-b460-62dca7729f3b",
   "metadata": {},
   "outputs": [
    {
     "name": "stdout",
     "output_type": "stream",
     "text": [
      "(25, 93, 12)\n"
     ]
    }
   ],
   "source": [
    "print(count_matches([match_exists(x, map_piscem, map_bowtie, barcode_map, 10) for x in piscem_chromap[2]]))"
   ]
  },
  {
   "cell_type": "markdown",
   "id": "bdb72e1f-fef9-41e2-abb0-232dfdb6c6ea",
   "metadata": {},
   "source": [
    "### Local Bowtie"
   ]
  },
  {
   "cell_type": "code",
   "execution_count": 109,
   "id": "8f3f8184-b7fe-4b4c-851d-006649ef5912",
   "metadata": {},
   "outputs": [],
   "source": [
    "map_bowtie = extract_mappings_from_sam(os.path.join(path, \"bowtie2/samp1285_local.sam\"))"
   ]
  },
  {
   "cell_type": "code",
   "execution_count": 113,
   "id": "26039ab0-2c8c-43d3-b4ae-dc413ef4cc8d",
   "metadata": {},
   "outputs": [
    {
     "data": {
      "text/plain": [
       "1220"
      ]
     },
     "execution_count": 113,
     "metadata": {},
     "output_type": "execute_result"
    }
   ],
   "source": [
    "len(map_bowtie)"
   ]
  },
  {
   "cell_type": "code",
   "execution_count": 111,
   "id": "1d0091ec-53fd-4cad-9c6c-b5b835137840",
   "metadata": {},
   "outputs": [
    {
     "name": "stdout",
     "output_type": "stream",
     "text": [
      "count matches are 1138\n",
      "27 55 59 6 1138\n"
     ]
    }
   ],
   "source": [
    "bowtie_piscem=comp_samp_map(os.path.join(path, \"bowtie2/samp1285_local.sam\"), os.path.join(path, \"piscem_analysis/samp1285_k23_psc_off=true_ps_skip=false_thr=0.7/map.bed\"),\n",
    "                            os.path.join(path, \"pickle_hits/samp1285.pi\"), 10)\n",
    "print(len(bowtie_piscem[0]), len(bowtie_piscem[1]), len(bowtie_piscem[2]), len(bowtie_piscem[3]), len(bowtie_piscem[4]))"
   ]
  },
  {
   "cell_type": "code",
   "execution_count": 112,
   "id": "cee9ebf9-256a-4960-a09a-42b8ff88aadd",
   "metadata": {},
   "outputs": [
    {
     "name": "stdout",
     "output_type": "stream",
     "text": [
      "count matches are 1075\n",
      "2 143 42 23 1075\n"
     ]
    }
   ],
   "source": [
    "bowtie_chromap=comp_samp_map(os.path.join(path, \"bowtie2/samp1285_local.sam\"), os.path.join(path, \"chromap_analysis/map_out_samp1285.bed\"),\n",
    "                            os.path.join(path, \"pickle_hits/samp1285.pi\"),10)\n",
    "print(len(bowtie_chromap[0]), len(bowtie_chromap[1]), len(bowtie_chromap[2]), len(bowtie_chromap[3]), len(bowtie_chromap[4]))"
   ]
  },
  {
   "cell_type": "code",
   "execution_count": 114,
   "id": "0b955feb-45be-44d7-952b-8a522673a893",
   "metadata": {},
   "outputs": [
    {
     "name": "stdout",
     "output_type": "stream",
     "text": [
      "(23, 9, 7)\n",
      "(23, 16, 0)\n"
     ]
    }
   ],
   "source": [
    "print(count_matches([match_exists(x, map_piscem, map_bowtie, barcode_map, 10) for x in piscem_chromap[0].keys()]))\n",
    "print(count_matches([match_exists(x, map_chromap, map_bowtie, barcode_map, 10) for x in piscem_chromap[0].keys()]))"
   ]
  },
  {
   "cell_type": "code",
   "execution_count": null,
   "id": "5d0c3b6d-eb65-42f1-8bb4-b9438e9ef631",
   "metadata": {},
   "outputs": [
    {
     "name": "stdout",
     "output_type": "stream",
     "text": [
      "(0, 25, 0)\n"
     ]
    }
   ],
   "source": [
    "print(count_matches([match_exists(x, map_chromap, map_bowtie, barcode_map, 10) for x in piscem_chromap[1]]))"
   ]
  },
  {
   "cell_type": "code",
   "execution_count": null,
   "id": "e664c128-e6e1-4f54-9927-47afbd03ecc9",
   "metadata": {},
   "outputs": [],
   "source": []
  }
 ],
 "metadata": {
  "kernelspec": {
   "display_name": "Python 3 (ipykernel)",
   "language": "python",
   "name": "python3"
  },
  "language_info": {
   "codemirror_mode": {
    "name": "ipython",
    "version": 3
   },
   "file_extension": ".py",
   "mimetype": "text/x-python",
   "name": "python",
   "nbconvert_exporter": "python",
   "pygments_lexer": "ipython3",
   "version": "3.10.12"
  }
 },
 "nbformat": 4,
 "nbformat_minor": 5
}
